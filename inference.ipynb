{
 "cells": [
  {
   "cell_type": "code",
   "execution_count": 1,
   "id": "aab3ade8",
   "metadata": {},
   "outputs": [],
   "source": [
    "import tensorflow as tf\n",
    "import time\n",
    "import cv2\n",
    "import numpy as np\n"
   ]
  },
  {
   "cell_type": "code",
   "execution_count": 2,
   "id": "6191009c",
   "metadata": {},
   "outputs": [],
   "source": [
    "# 1280X1280 ALTA RESOLUÇÃO, PRECISA E BAIXA PERFOMANCE\n",
    "SAVED_MODEL_1 = \"saved_model_640\" \n",
    "\n",
    "# 640X640 MEDIA RESOLUÇÃO, BOA PRECISÃO E MÉDIA PERFOMANCE\n",
    "SAVED_MODEL_2 = \"saved_model_320\"\n",
    "\n",
    "# 320X320 BAIXA RESOLUÇÃO, PRECISÃO MÉDIA E BOA PERFOMANCE\n",
    "SAVED_MODEL_3 = \"saved_model_224\"\n",
    "\n",
    "#OBS\n",
    "# O NÍVEL DE PRECISÃO INDICA A CAPACIDADE DO MODELO EM DETECTAR\n",
    "# OBJETOS CADA VEZ MENORES E COM BOA CONFIABILIDADE.\n",
    "\n",
    "SAVED_MODEL = SAVED_MODEL_1"
   ]
  },
  {
   "cell_type": "code",
   "execution_count": 3,
   "id": "5987196f",
   "metadata": {},
   "outputs": [
    {
     "name": "stdout",
     "output_type": "stream",
     "text": [
      "Modelo carregado!\n"
     ]
    }
   ],
   "source": [
    "model = tf.saved_model.load(SAVED_MODEL)\n",
    "print(\"Modelo carregado!\")"
   ]
  },
  {
   "cell_type": "code",
   "execution_count": 4,
   "id": "ab44c33a",
   "metadata": {},
   "outputs": [],
   "source": [
    "category_index = {\n",
    "    1: \"com mascara\",\n",
    "    2: \"sem mascara\",\n",
    "    3: \"mascara incorreta\"\n",
    "}\n",
    "\n",
    "colors = {\n",
    "    1: (0,0,255),\n",
    "    2: (255,0,0),\n",
    "    3: (255,100,20)\n",
    "}"
   ]
  },
  {
   "cell_type": "code",
   "execution_count": 5,
   "id": "4b91b843",
   "metadata": {},
   "outputs": [],
   "source": [
    "def nms(boxes, classes, scores, max_boxes=20, iou_treshold=0.5, score_treshold=0.6):\n",
    "    boxes = tf.squeeze(boxes, 0)\n",
    "    scores = tf.squeeze(scores, 0)\n",
    "    classes = tf.squeeze(classes, 0)\n",
    "    boxes_indexes, scores = tf.image.non_max_suppression_with_scores(boxes,\n",
    "                                                                     scores,\n",
    "                                                                     max_boxes,\n",
    "                                                                     iou_threshold=iou_treshold,\n",
    "                                                                     score_threshold=score_treshold)\n",
    "    return tf.gather(boxes, boxes_indexes), tf.gather(classes, boxes_indexes), scores\n",
    "\n",
    "def predict(image, model):\n",
    "#     if SAVED_MODEL == SAVED_MODEL_4:\n",
    "#         image = tf.cast(image, tf.float32)\n",
    "    \n",
    "    image_tensor = tf.expand_dims(image, 0)\n",
    "    start = time.time()\n",
    "    detection_dict = model(image_tensor)\n",
    "    end1 = time.time()\n",
    "    return drawn_boxes_on_image_array(image, detection_dict, start, end1)\n",
    "    \n",
    "\n",
    "def drawn_boxes_on_image_array(image, detection_dict, t1, t2, min_score=0.3):\n",
    "    boxes = detection_dict['detection_boxes']\n",
    "    scores = detection_dict['detection_scores']\n",
    "    classes = detection_dict['detection_classes']\n",
    "    boxes, classes, scores = nms(boxes,\n",
    "                                 classes,\n",
    "                                 scores,\n",
    "                                 max_boxes=10,\n",
    "                                 score_treshold=min_score)\n",
    "    nms_time = time.time() - t2\n",
    "    \n",
    "    font = cv2.FONT_HERSHEY_SIMPLEX\n",
    "    \n",
    "    H,W,_ = image.shape\n",
    "    image_shape = np.array([H,W,H,W])\n",
    "    \n",
    "    for i, box in enumerate(boxes):\n",
    "        class_ = classes[i].numpy()\n",
    "        score = scores[i].numpy()\n",
    "        box = (box.numpy()*image_shape).astype(int)\n",
    "        \n",
    "        text = \"{} - {:.2f}\".format(category_index[class_], score)\n",
    "        \n",
    "        color = colors[class_]\n",
    "        \n",
    "        y1, x1, y2, x2 = box\n",
    "        #print(class_, color)\n",
    "        cv2.rectangle(image, (x1, y1), (x2, y2), color, 2)\n",
    "        \n",
    "        text_size, _ = cv2.getTextSize(text, font, 0.8, 2)\n",
    "        w,h = text_size\n",
    "        \n",
    "        cv2.rectangle(image, (x1-1, y1-h-2), (x1+w, y1), color, -1)\n",
    "        cv2.putText(image, text, (x1, y1-1), font, 0.8, (255,255,255), 2)\n",
    "\n",
    "    detection_time = t2 - t1\n",
    "    final_time = time.time()\n",
    "    total_time = final_time - t1\n",
    "    vis_time = final_time - t2\n",
    "    fps = 1/total_time\n",
    "    cv2.putText(image, 'det:{}ms | FPS: {:.1f}'.format(\n",
    "        int(detection_time*1000), fps), (30,30), font, 0.8, (255,255,255),2)\n",
    "    \n",
    "    return image"
   ]
  },
  {
   "cell_type": "code",
   "execution_count": 6,
   "id": "ad656dca",
   "metadata": {},
   "outputs": [],
   "source": [
    "LOWEST = (320, 320)\n",
    "LOW = (1066, 600)\n",
    "MID = (1920, 1080)\n",
    "HIGH = (3840, 2160)\n",
    "\n",
    "RES = MID"
   ]
  },
  {
   "cell_type": "code",
   "execution_count": 7,
   "id": "4af47990",
   "metadata": {},
   "outputs": [
    {
     "data": {
      "text/plain": [
       "True"
      ]
     },
     "execution_count": 7,
     "metadata": {},
     "output_type": "execute_result"
    }
   ],
   "source": [
    "cam = cv2.VideoCapture(0)\n",
    "cam.set(cv2.CAP_PROP_FRAME_WIDTH, RES[0])\n",
    "cam.set(cv2.CAP_PROP_FRAME_HEIGHT, RES[1])"
   ]
  },
  {
   "cell_type": "code",
   "execution_count": 8,
   "id": "b3ae9ff2",
   "metadata": {},
   "outputs": [],
   "source": [
    "fourcc = cv2.VideoWriter_fourcc(*'mp4v')\n",
    "time_stamp = time.strftime('%Y-%m-%d-%H%M%S')\n",
    "video = cv2.VideoWriter(f'results/video_{time_stamp}.mp4', fourcc, 10, RES)"
   ]
  },
  {
   "cell_type": "code",
   "execution_count": 9,
   "id": "060effec",
   "metadata": {},
   "outputs": [],
   "source": [
    "while cam.isOpened():\n",
    "    try:\n",
    "        ret, frame = cam.read()\n",
    "        if not ret: break\n",
    "        frame = cv2.cvtColor(frame, cv2.COLOR_BGR2RGB)\n",
    "        frame = predict(frame, model)\n",
    "        frame = cv2.cvtColor(frame, cv2.COLOR_RGB2BGR)\n",
    "        cv2.namedWindow('image', cv2.WINDOW_FREERATIO)\n",
    "        video.write(frame)\n",
    "        cv2.imshow(\"image\", frame/255)\n",
    "        #video.write()\n",
    "        cv2.waitKey(1)\n",
    "    except KeyboardInterrupt:\n",
    "        cv2.destroyAllWindows()\n",
    "        break\n",
    "\n",
    "cam.release()\n",
    "video.release()"
   ]
  },
  {
   "cell_type": "code",
   "execution_count": null,
   "id": "1c8fd225",
   "metadata": {},
   "outputs": [],
   "source": []
  }
 ],
 "metadata": {
  "kernelspec": {
   "display_name": "Python 3 (ipykernel)",
   "language": "python",
   "name": "python3"
  },
  "language_info": {
   "codemirror_mode": {
    "name": "ipython",
    "version": 3
   },
   "file_extension": ".py",
   "mimetype": "text/x-python",
   "name": "python",
   "nbconvert_exporter": "python",
   "pygments_lexer": "ipython3",
   "version": "3.9.12"
  }
 },
 "nbformat": 4,
 "nbformat_minor": 5
}
